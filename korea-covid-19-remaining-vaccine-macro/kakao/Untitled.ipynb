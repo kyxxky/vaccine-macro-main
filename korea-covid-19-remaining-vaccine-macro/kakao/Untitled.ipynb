{
 "cells": [
  {
   "cell_type": "code",
   "execution_count": 1,
   "metadata": {},
   "outputs": [],
   "source": [
    "import json\n",
    "import re\n",
    "import time\n",
    "from datetime import datetime"
   ]
  },
  {
   "cell_type": "code",
   "execution_count": 2,
   "metadata": {},
   "outputs": [
    {
     "ename": "ModuleNotFoundError",
     "evalue": "No module named 'kakao'",
     "output_type": "error",
     "traceback": [
      "\u001b[0;31m---------------------------------------------------------------------------\u001b[0m",
      "\u001b[0;31mModuleNotFoundError\u001b[0m                       Traceback (most recent call last)",
      "\u001b[0;32m<ipython-input-2-6d89411b741a>\u001b[0m in \u001b[0;36m<module>\u001b[0;34m\u001b[0m\n\u001b[1;32m      1\u001b[0m \u001b[0;32mfrom\u001b[0m \u001b[0mcommon\u001b[0m \u001b[0;32mimport\u001b[0m \u001b[0mclose\u001b[0m\u001b[0;34m\u001b[0m\u001b[0;34m\u001b[0m\u001b[0m\n\u001b[0;32m----> 2\u001b[0;31m \u001b[0;32mfrom\u001b[0m \u001b[0mconfig\u001b[0m \u001b[0;32mimport\u001b[0m \u001b[0mload_search_time\u001b[0m\u001b[0;34m,\u001b[0m \u001b[0mload_config\u001b[0m\u001b[0;34m,\u001b[0m \u001b[0minput_config\u001b[0m\u001b[0;34m\u001b[0m\u001b[0;34m\u001b[0m\u001b[0m\n\u001b[0m\u001b[1;32m      3\u001b[0m \u001b[0;32mfrom\u001b[0m \u001b[0mcookie\u001b[0m \u001b[0;32mimport\u001b[0m \u001b[0mload_saved_cookie\u001b[0m\u001b[0;34m,\u001b[0m \u001b[0mload_cookie_from_chrome\u001b[0m\u001b[0;34m\u001b[0m\u001b[0;34m\u001b[0m\u001b[0m\n\u001b[1;32m      4\u001b[0m \u001b[0;32mfrom\u001b[0m \u001b[0mrequest\u001b[0m \u001b[0;32mimport\u001b[0m \u001b[0mfind_vaccine\u001b[0m\u001b[0;34m\u001b[0m\u001b[0;34m\u001b[0m\u001b[0m\n\u001b[1;32m      5\u001b[0m \u001b[0;32mfrom\u001b[0m \u001b[0muser\u001b[0m \u001b[0;32mimport\u001b[0m \u001b[0mcheck_user_info_loaded\u001b[0m\u001b[0;34m\u001b[0m\u001b[0;34m\u001b[0m\u001b[0m\n",
      "\u001b[0;32m~/korea-covid-19-remaining-vaccine-macro/kakao/config.py\u001b[0m in \u001b[0;36m<module>\u001b[0;34m\u001b[0m\n\u001b[1;32m      2\u001b[0m \u001b[0;32mimport\u001b[0m \u001b[0mos\u001b[0m\u001b[0;34m\u001b[0m\u001b[0;34m\u001b[0m\u001b[0m\n\u001b[1;32m      3\u001b[0m \u001b[0;34m\u001b[0m\u001b[0m\n\u001b[0;32m----> 4\u001b[0;31m \u001b[0;32mfrom\u001b[0m \u001b[0mkakao\u001b[0m\u001b[0;34m.\u001b[0m\u001b[0mcommon\u001b[0m \u001b[0;32mimport\u001b[0m \u001b[0mfill_str_with_space\u001b[0m\u001b[0;34m\u001b[0m\u001b[0;34m\u001b[0m\u001b[0m\n\u001b[0m\u001b[1;32m      5\u001b[0m \u001b[0;34m\u001b[0m\u001b[0m\n\u001b[1;32m      6\u001b[0m \u001b[0;34m\u001b[0m\u001b[0m\n",
      "\u001b[0;31mModuleNotFoundError\u001b[0m: No module named 'kakao'"
     ]
    }
   ],
   "source": [
    "from common import close\n",
    "from config import load_search_time, load_config, input_config\n",
    "from cookie import load_saved_cookie, load_cookie_from_chrome\n",
    "from request import find_vaccine\n",
    "from user import check_user_info_loaded\n",
    "\n",
    "got_cookie, cookie = load_saved_cookie()\n",
    "if not got_cookie:\n",
    "    cookie = load_cookie_from_chrome()"
   ]
  },
  {
   "cell_type": "code",
   "execution_count": 14,
   "metadata": {},
   "outputs": [],
   "source": [
    "import requests\n",
    "import urllib3"
   ]
  },
  {
   "cell_type": "code",
   "execution_count": 15,
   "metadata": {},
   "outputs": [],
   "source": [
    "urllib3.disable_warnings()\n",
    "header_map = {\n",
    "    \"Accept\": \"application/json, text/plain, */*\",\n",
    "    \"Content-Type\": \"application/json;charset=utf-8\",\n",
    "    \"Origin\": \"https://vaccine-map.kakao.com\",\n",
    "    \"Accept-Language\": \"en-us\",\n",
    "    \"User-Agent\": \"Mozilla/5.0 (iPhone; CPU iPhone OS 14_7 like Mac OS X) AppleWebKit/605.1.15 (KHTML, like Gecko) Mobile/15E148 KAKAOTALK 9.4.2\",\n",
    "    \"Referer\": \"https://vaccine-map.kakao.com/\",\n",
    "    \"Accept-Encoding\": \"gzip, deflate\",\n",
    "    \"Connection\": \"Keep-Alive\",\n",
    "    \"Keep-Alive\": \"timeout=5, max=1000\"\n",
    "}\n",
    "\n",
    "headers_vaccine = {\n",
    "    \"Accept\": \"application/json, text/plain, */*\",\n",
    "    \"Content-Type\": \"application/json;charset=utf-8\",\n",
    "    \"Origin\": \"https://vaccine.kakao.com\",\n",
    "    \"Accept-Language\": \"en-us\",\n",
    "    \"User-Agent\": \"Mozilla/5.0 (iPhone; CPU iPhone OS 14_7 like Mac OS X) AppleWebKit/605.1.15 (KHTML, like Gecko) Mobile/15E148 KAKAOTALK 9.4.2\",\n",
    "    \"Referer\": \"https://vaccine.kakao.com/\",\n",
    "    \"Accept-Encoding\": \"gzip, deflate\",\n",
    "    \"Connection\": \"Keep-Alive\",\n",
    "    \"Keep-Alive\": \"timeout=5, max=1000\"\n",
    "}\n"
   ]
  },
  {
   "cell_type": "code",
   "execution_count": 16,
   "metadata": {},
   "outputs": [],
   "source": [
    "url = 'https://vaccine-map.kakao.com/api/v3/vaccine/left_count_by_coords'\n",
    "data = {\"bottomRight\": {\"x\": 127.0815041195988, \"y\": 37.48811824855515}, \"onlyLeft\": True, \"order\": \"count\",\n",
    "            \"topLeft\": {\"x\": 127.01128865531011, \"y\": 37.54427557646206}}\n",
    "done = False\n",
    "found = None"
   ]
  },
  {
   "cell_type": "code",
   "execution_count": 39,
   "metadata": {},
   "outputs": [],
   "source": [
    "while not done:\n",
    "        try:\n",
    "            time.sleep(0.2)\n",
    "            response = requests.post(url, data=json.dumps(data), headers=header_map, verify=False, timeout=5)\n",
    "            \n",
    "            try:\n",
    "                json_data = json.loads(response.text)\n",
    "\n",
    "                for x in json_data.get(\"organizations\"):\n",
    "\n",
    "                    if x.get('status') == \"AVAILABLE\" or x.get('leftCounts') != 0:\n",
    "                        found = x\n",
    "                        done = True\n",
    "                        break\n",
    "\n",
    "                if not done:\n",
    "                    pretty_print(json_data)\n",
    "                    print(datetime.now())\n",
    "\n",
    "            except json.decoder.JSONDecodeError as decodeerror:\n",
    "                print(\"JSONDecodeError : \", decodeerror)\n",
    "                print(\"JSON string : \", response.text)\n",
    "                close()\n",
    "\n",
    "\n",
    "        except requests.exceptions.Timeout as timeouterror:\n",
    "            print(\"Timeout Error : \", timeouterror)\n",
    "\n",
    "        except requests.exceptions.SSLError as sslerror:\n",
    "            print(\"SSL Error : \", sslerror)\n",
    "            close()\n"
   ]
  },
  {
   "cell_type": "code",
   "execution_count": 40,
   "metadata": {},
   "outputs": [
    {
     "data": {
      "text/plain": [
       "'{\"organizations\":[{\"orgCode\":\"12364991\",\"orgName\":\"서초아이소아청소년과의원\",\"address\":\"서울 서초구 사임당로 158\",\"x\":127.027174744524,\"y\":37.4918506610427,\"status\":\"AVAILABLE\",\"leftCounts\":9},{\"orgCode\":\"11385332\",\"orgName\":\"하내과의원\",\"address\":\"서울 성동구 한림말길 31\",\"x\":127.01461467904271,\"y\":37.54114859111104,\"status\":\"AVAILABLE\",\"leftCounts\":8},{\"orgCode\":\"11343940\",\"orgName\":\"장내과의원\",\"address\":\"서울 서초구 사임당로 181\",\"x\":127.02934630001695,\"y\":37.49305388727239,\"status\":\"AVAILABLE\",\"leftCounts\":8},{\"orgCode\":\"11347031\",\"orgName\":\"신일외과의원\",\"address\":\"서울 광진구 뚝섬로 511\",\"x\":127.06723444620555,\"y\":37.53575679070494,\"status\":\"AVAILABLE\",\"leftCounts\":8},{\"orgCode\":\"12348546\",\"orgName\":\"센텀메디의원\",\"address\":\"서울 강남구 선릉로63길 9\",\"x\":127.05141309822802,\"y\":37.4971333117297,\"status\":\"AVAILABLE\",\"leftCounts\":8},{\"orgCode\":\"12308846\",\"orgName\":\"삼성우리내과의원\",\"address\":\"서울 강남구 일원로 37\",\"x\":127.08123326266507,\"y\":37.490477951884785,\"status\":\"AVAILABLE\",\"leftCounts\":8},{\"orgCode\":\"11378492\",\"orgName\":\"자애산부인과의원\",\"address\":\"서울 성동구 성덕정길 79\",\"x\":127.05249568744621,\"y\":37.538020367159056,\"status\":\"AVAILABLE\",\"leftCounts\":7},{\"orgCode\":\"11356413\",\"orgName\":\"동심소아청소년과의원\",\"address\":\"서울 서초구 서초대로 325\",\"x\":127.01706633431348,\"y\":37.4949412061393,\"status\":\"AVAILABLE\",\"leftCounts\":6},{\"orgCode\":\"12334120\",\"orgName\":\"그린소아청소년과의원\",\"address\":\"서울 강남구 학동로 521\",\"x\":127.05582804017183,\"y\":37.5200375503609,\"status\":\"AVAILABLE\",\"leftCounts\":6},{\"orgCode\":\"12343145\",\"orgName\":\"푸른하늘이비인후과의원\",\"address\":\"서울 강남구 선릉로86길 17\",\"x\":127.05112801078225,\"y\":37.503602658362624,\"status\":\"AVAILABLE\",\"leftCounts\":6},{\"orgCode\":\"12346365\",\"orgName\":\"삼성드림내과의원\",\"address\":\"서울 강남구 선릉로 309-1\",\"x\":127.05225100407178,\"y\":37.497052754523,\"status\":\"AVAILABLE\",\"leftCounts\":6},{\"orgCode\":\"12384577\",\"orgName\":\"강남삼성조내과의원\",\"address\":\"서울 강남구 봉은사로 111\",\"x\":127.02569574386862,\"y\":37.505200301731485,\"status\":\"AVAILABLE\",\"leftCounts\":5},{\"orgCode\":\"12389811\",\"orgName\":\"아산박내과의원\",\"address\":\"서울 광진구 뚝섬로 498\",\"x\":127.0654016407786,\"y\":37.53589477203005,\"status\":\"AVAILABLE\",\"leftCounts\":5},{\"orgCode\":\"12325651\",\"orgName\":\"광지의원\",\"address\":\"서울 강남구 학동로97길 15\",\"x\":127.05530253382013,\"y\":37.52071625276929,\"status\":\"AVAILABLE\",\"leftCounts\":5},{\"orgCode\":\"11389176\",\"orgName\":\"김호중이비인후과의원\",\"address\":\"서울 강남구 삼성로 38\",\"x\":127.066843974689,\"y\":37.4886885583622,\"status\":\"AVAILABLE\",\"leftCounts\":5},{\"orgCode\":\"12358941\",\"orgName\":\"연세어울림이비인후과의원\",\"address\":\"서울 광진구 아차산로 241\",\"x\":127.07005839949312,\"y\":37.5404763898131,\"status\":\"AVAILABLE\",\"leftCounts\":5},{\"orgCode\":\"11318171\",\"orgName\":\"박종진이비인후과의원\",\"address\":\"서울 강남구 일원로 33\",\"x\":127.08105732498174,\"y\":37.490903348177454,\"status\":\"AVAILABLE\",\"leftCounts\":5},{\"orgCode\":\"12335339\",\"orgName\":\"김동균소아청소년과의원\",\"address\":\"서울 서초구 고무래로 32\",\"x\":127.01200598630598,\"y\":37.50244901344203,\"status\":\"AVAILABLE\",\"leftCounts\":3},{\"orgCode\":\"11207531\",\"orgName\":\"서울본브릿지병원\",\"address\":\"서울 강남구 도곡로 214\",\"x\":127.042417914316,\"y\":37.4924624604309,\"status\":\"AVAILABLE\",\"leftCounts\":3},{\"orgCode\":\"12381977\",\"orgName\":\"강남성모내과의원\",\"address\":\"서울 강남구 개포로 615\",\"x\":127.075586221184,\"y\":37.492658533156,\"status\":\"AVAILABLE\",\"leftCounts\":3},{\"orgCode\":\"11348674\",\"orgName\":\"이관우내과의원\",\"address\":\"서울 강남구 일원로 35\",\"x\":127.08116557746227,\"y\":37.490625763607355,\"status\":\"AVAILABLE\",\"leftCounts\":3},{\"orgCode\":\"11359757\",\"orgName\":\"이앤문내과의원\",\"address\":\"서울 강남구 학동로 313\",\"x\":127.03731632662326,\"y\":37.51619576357385,\"status\":\"AVAILABLE\",\"leftCounts\":2},{\"orgCode\":\"12337242\",\"orgName\":\"연이비인후과의원\",\"address\":\"서울 서초구 서초대로 310\",\"x\":127.01555536086275,\"y\":37.4939863473714,\"status\":\"AVAILABLE\",\"leftCounts\":2},{\"orgCode\":\"12392995\",\"orgName\":\"연세위드이비인후과의원\",\"address\":\"서울 서초구 서초중앙로 125\",\"x\":127.013420225323,\"y\":37.4930099174986,\"status\":\"AVAILABLE\",\"leftCounts\":2},{\"orgCode\":\"12350508\",\"orgName\":\"굿닥터이비인후과의원\",\"address\":\"서울 강남구 도곡로 449\",\"x\":127.05958819966406,\"y\":37.498765698502076,\"status\":\"AVAILABLE\",\"leftCounts\":2},{\"orgCode\":\"12363413\",\"orgName\":\"24시열린의원\",\"address\":\"서울 광진구 능동로 90\",\"x\":127.07092538229688,\"y\":37.53834951246818,\"status\":\"AVAILABLE\",\"leftCounts\":2},{\"orgCode\":\"12313106\",\"orgName\":\"대치서울영재소아청소년과의원\",\"address\":\"서울 강남구 도곡로 515\",\"x\":127.06268310744545,\"y\":37.49975520356231,\"status\":\"AVAILABLE\",\"leftCounts\":1},{\"orgCode\":\"12353078\",\"orgName\":\"연세자연의원\",\"address\":\"서울 강남구 선릉로 515\",\"x\":127.048233963241,\"y\":37.5054455304374,\"status\":\"AVAILABLE\",\"leftCounts\":1},{\"orgCode\":\"12340227\",\"orgName\":\"성동주민의원\",\"address\":\"서울 광진구 아차산로 237\",\"x\":127.06975061631621,\"y\":37.540462156014115,\"status\":\"AVAILABLE\",\"leftCounts\":1},{\"orgCode\":\"12360325\",\"orgName\":\"서울엠비(MB)내과의원\",\"address\":\"서울 광진구 능동로 18\",\"x\":127.06795608258302,\"y\":37.53302093951981,\"status\":\"AVAILABLE\",\"leftCounts\":1},{\"orgCode\":\"11337885\",\"orgName\":\"양의원\",\"address\":\"서울 송파구 올림픽로4길 40\",\"x\":127.0742165074839,\"y\":37.50717640927297,\"status\":\"AVAILABLE\",\"leftCounts\":1}]}'"
      ]
     },
     "execution_count": 40,
     "metadata": {},
     "output_type": "execute_result"
    }
   ],
   "source": [
    "response.text"
   ]
  },
  {
   "cell_type": "code",
   "execution_count": 41,
   "metadata": {},
   "outputs": [
    {
     "data": {
      "text/plain": [
       "{'orgCode': '12364991',\n",
       " 'orgName': '서초아이소아청소년과의원',\n",
       " 'address': '서울 서초구 사임당로 158',\n",
       " 'x': 127.027174744524,\n",
       " 'y': 37.4918506610427,\n",
       " 'status': 'AVAILABLE',\n",
       " 'leftCounts': 9}"
      ]
     },
     "execution_count": 41,
     "metadata": {},
     "output_type": "execute_result"
    }
   ],
   "source": [
    "found"
   ]
  },
  {
   "cell_type": "code",
   "execution_count": 21,
   "metadata": {},
   "outputs": [],
   "source": [
    "vaccine_type = 'VEN00013'"
   ]
  },
  {
   "cell_type": "code",
   "execution_count": 36,
   "metadata": {},
   "outputs": [
    {
     "name": "stdout",
     "output_type": "stream",
     "text": [
      "VEN00015\n",
      "VEN00013\n",
      "yes\n",
      "VEN00014\n"
     ]
    }
   ],
   "source": [
    "organization_code = found.get('orgCode')\n",
    "check_organization_url = f'https://vaccine.kakao.com/api/v3/org/org_code/{organization_code}'\n",
    "check_organization_response = requests.get(check_organization_url, headers=headers_vaccine, cookies=cookie, verify=False)\n",
    "\n",
    "check_organization_data = json.loads(check_organization_response.text).get(\"lefts\")\n",
    "for x in check_organization_data:\n",
    "    print(x.get('vaccineCode'))\n",
    "    if x.get('vaccineCode')== vaccine_type :\n",
    "        print('yes')\n",
    "        if x.get('leftCount') != 0:\n",
    "            print(f\"{x.get('vaccineName')} 백신을 {x.get('leftCount')}개 발견했습니다.\")\n",
    "            vaccine_found_code = x.get('vaccineCode')\n",
    "            break\n",
    "    #else:\n",
    "        #print(f\"{x.get('vaccineName')} 백신이 없습니다.\")\n"
   ]
  },
  {
   "cell_type": "code",
   "execution_count": 32,
   "metadata": {},
   "outputs": [
    {
     "data": {
      "text/plain": [
       "'VEN00014'"
      ]
     },
     "execution_count": 32,
     "metadata": {},
     "output_type": "execute_result"
    }
   ],
   "source": [
    "x.get('vaccineCode')"
   ]
  },
  {
   "cell_type": "code",
   "execution_count": 34,
   "metadata": {},
   "outputs": [
    {
     "data": {
      "text/plain": [
       "'VEN00013'"
      ]
     },
     "execution_count": 34,
     "metadata": {},
     "output_type": "execute_result"
    }
   ],
   "source": [
    "sys"
   ]
  },
  {
   "cell_type": "code",
   "execution_count": null,
   "metadata": {},
   "outputs": [],
   "source": [
    "\n",
    "done = False\n",
    "found = None\n",
    "vaccine_found_code = None\n",
    "\n",
    "while not done:\n",
    "    try:\n",
    "        time.sleep(0.2)\n",
    "        response = requests.post(url, data=json.dumps(data), headers=header_map, verify=False, timeout=5)\n",
    "\n",
    "        try:\n",
    "            json_data = json.loads(response.text)\n",
    "\n",
    "            for x in json_data.get(\"organizations\"):\n",
    "                if x.get('status') == \"AVAILABLE\" or x.get('leftCounts') != 0:\n",
    "                    found = x\n",
    "                    print(f\"{found.get('orgName')} 에서 백신을 {found.get('leftCounts')}개 발견했습니다.\")\n",
    "                    print(f\"주소는 : {found.get('address')} 입니다.\")\n",
    "                    organization_code = found.get('orgCode')\n",
    "                    # 실제 백신 남은수량 확인\n",
    "                    vaccine_found_code = None\n",
    "\n",
    "                    check_organization_url = f'https://vaccine.kakao.com/api/v3/org/org_code/{organization_code}'\n",
    "                    check_organization_response = requests.get(check_organization_url, headers=headers_vaccine, cookies=cookie, verify=False)\n",
    "                    check_organization_data = json.loads(check_organization_response.text).get(\"lefts\")\n",
    "                    for y in check_organization_data:\n",
    "                        if y.get('vaccineCode') == vaccine_type :\n",
    "                            if y.get('leftCount') != 0:\n",
    "                                print(f\"{y.get('vaccineName')} 백신을 {y.get('leftCount')}개 발견했습니다.\")\n",
    "                                vaccine_found_code = y.get('vaccineCode')\n",
    "                                print(f\"{vaccine_found_code} 으로 예약을 시도합니다.\")\n",
    "                                done = True\n",
    "                                break\n",
    "                            else:\n",
    "                                print(f\"{y.get('vaccineName')}의 물량이 없습니다.\")\n",
    "                        else:\n",
    "                            print(f\"{y.get('vaccineName')} 는 원하는 백신이 아닙니다.\")\n",
    "\n",
    "                    if done :\n",
    "                        break\n",
    "\n",
    "\n",
    "            if not done:\n",
    "                #pretty_print(json_data)\n",
    "                print(datetime.now())\n",
    "                found = None\n",
    "        except json.decoder.JSONDecodeError as decodeerror:\n",
    "            print(\"JSONDecodeError : \", decodeerror)\n",
    "            print(\"JSON string : \", response.text)\n",
    "            close()\n",
    "\n",
    "\n",
    "    except requests.exceptions.Timeout as timeouterror:\n",
    "        print(\"Timeout Error : \", timeouterror)\n",
    "\n",
    "    except requests.exceptions.SSLError as sslerror:\n",
    "        print(\"SSL Error : \", sslerror)\n",
    "        close()\n",
    "\n"
   ]
  },
  {
   "cell_type": "code",
   "execution_count": null,
   "metadata": {},
   "outputs": [],
   "source": []
  }
 ],
 "metadata": {
  "kernelspec": {
   "display_name": "Python 3",
   "language": "python",
   "name": "python3"
  },
  "language_info": {
   "codemirror_mode": {
    "name": "ipython",
    "version": 3
   },
   "file_extension": ".py",
   "mimetype": "text/x-python",
   "name": "python",
   "nbconvert_exporter": "python",
   "pygments_lexer": "ipython3",
   "version": "3.8.5"
  }
 },
 "nbformat": 4,
 "nbformat_minor": 4
}
